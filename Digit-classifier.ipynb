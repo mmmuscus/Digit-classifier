{
 "cells": [
  {
   "cell_type": "code",
   "execution_count": 44,
   "metadata": {},
   "outputs": [],
   "source": [
    "import random\n",
    "\n",
    "class Neuron:\n",
    "    def __init__(self, numberOfOutgoing, lst = None):\n",
    "        self.activation = random.uniform(0, 1)\n",
    "        self.bias = random.uniform(0, 1)\n",
    "        if lst is None:\n",
    "            lst = []\n",
    "            for i in range(numberOfOutgoing):\n",
    "                lst.append(random.uniform(0, 1))\n",
    "        self.outgoingWeights = lst\n",
    "\n",
    "    def cout(self):\n",
    "        print(\"Activation: \", self.activation)\n",
    "        print(\"Bias: \", self.bias)\n",
    "        print(\"Outgoing Weights: \", self.outgoingWeights)\n"
   ]
  },
  {
   "cell_type": "code",
   "execution_count": 45,
   "metadata": {},
   "outputs": [
    {
     "name": "stdout",
     "output_type": "stream",
     "text": [
      "Activation:  0.6155314237420193\n",
      "Bias:  0.012239498618272338\n",
      "Outgoing Weights:  [0.6680992738080916, 0.06643450095017522, 0.8785752540780151, 0.3088469342479203, 0.9559097124672936, 0.8952774000831684, 0.9619843355122459, 0.2813387858361315, 0.4091931974986702, 0.3495999184315287]\n"
     ]
    }
   ],
   "source": [
    "n = Neuron(10)\n",
    "n.cout()"
   ]
  }
 ],
 "metadata": {
  "kernelspec": {
   "display_name": "base",
   "language": "python",
   "name": "python3"
  },
  "language_info": {
   "codemirror_mode": {
    "name": "ipython",
    "version": 3
   },
   "file_extension": ".py",
   "mimetype": "text/x-python",
   "name": "python",
   "nbconvert_exporter": "python",
   "pygments_lexer": "ipython3",
   "version": "3.11.7"
  }
 },
 "nbformat": 4,
 "nbformat_minor": 2
}
