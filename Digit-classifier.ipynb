{
 "cells": [
  {
   "cell_type": "code",
   "execution_count": 212,
   "metadata": {},
   "outputs": [],
   "source": [
    "import random\n",
    "import numpy as np\n",
    "\n",
    "class Neuron:\n",
    "    def __init__(self, numberOfOutgoing):\n",
    "        self.activation = random.uniform(0, 1)\n",
    "        self.bias = random.uniform(0, 1)\n",
    "        self.outgoingWeights = np.array([random.uniform(0, 1) for i in range(numberOfOutgoing)])\n",
    "\n",
    "    def cout(self):\n",
    "        print(\"Activation: \", self.activation)\n",
    "        print(\"Bias: \", self.bias)\n",
    "        print(\"Outgoing Weights: \", self.outgoingWeights)\n"
   ]
  },
  {
   "cell_type": "code",
   "execution_count": 213,
   "metadata": {},
   "outputs": [],
   "source": [
    "def sigmoid(x):\n",
    "    return 1 / (1 + np.exp(-x))\n",
    "\n",
    "class Network:\n",
    "\n",
    "    def __init__(self, start, first, second, end):\n",
    "        self.startLayer = np.array([Neuron(first) for i in range(start)])\n",
    "        self.firstLayer = np.array([Neuron(second) for i in range(first)])\n",
    "        self.secondLayer = np.array([Neuron(end) for i in range(second)])\n",
    "        self.endLayer = np.array([Neuron(0) for i in range(end)])\n",
    "\n",
    "    def forwardPropagationStep(self, inLayer, outLayer):\n",
    "        # weight matrix\n",
    "        weightMatrix = np.array([inLayer[0].outgoingWeights])\n",
    "        for i in range(1, outLayer.size):\n",
    "            weightMatrix = np.r_[weightMatrix, [inLayer[i].outgoingWeights]]\n",
    "\n",
    "        # input activation\n",
    "        inActivation = np.array([neur.activation for neur in inLayer])\n",
    "        \n",
    "        # output biases\n",
    "        outBias = np.array([neur.bias for neur in outLayer])\n",
    "\n",
    "        outputMat = np.dot(weightMatrix, inActivation)\n",
    "        outputMat = outputMat - outBias\n",
    "\n",
    "        for i in range(outLayer.size):\n",
    "            outLayer[i].activation = sigmoid(outputMat[i])\n",
    "\n",
    "    def fullForwardPropagation(self):\n",
    "        self.forwardPropagationStep(self.startLayer, self.firstLayer)\n",
    "        self.forwardPropagationStep(self.firstLayer, self.secondLayer)\n",
    "        self.forwardPropagationStep(self.secondLayer, self.endLayer)\n",
    "        print(self.cost(1))\n",
    "    \n",
    "    def cost(self, target):\n",
    "        sum = 0\n",
    "        for i in range(self.endLayer.size):\n",
    "            if (i == target):\n",
    "                sum += pow(self.endLayer[i].activation - 1.0, 2)\n",
    "            else:\n",
    "                sum += pow(self.endLayer[i].activation, 2)\n",
    "        return sum\n",
    "\n",
    "\n",
    "    def cout(self):\n",
    "        print(\"Start Layer\")\n",
    "        for neur in self.startLayer:\n",
    "            neur.cout()\n",
    "        print(\"First Layer\")\n",
    "        for neur in self.firstLayer:\n",
    "            neur.cout()\n",
    "        print(\"Second Layer\")\n",
    "        for neur in self.secondLayer:\n",
    "            neur.cout()\n",
    "        print(\"End Layer\")\n",
    "        for neur in self.endLayer:\n",
    "            neur.cout()\n",
    "        "
   ]
  },
  {
   "cell_type": "code",
   "execution_count": 214,
   "metadata": {},
   "outputs": [
    {
     "ename": "NameError",
     "evalue": "name 'endLayer' is not defined",
     "output_type": "error",
     "traceback": [
      "\u001b[1;31m---------------------------------------------------------------------------\u001b[0m",
      "\u001b[1;31mNameError\u001b[0m                                 Traceback (most recent call last)",
      "Cell \u001b[1;32mIn[214], line 2\u001b[0m\n\u001b[0;32m      1\u001b[0m net \u001b[38;5;241m=\u001b[39m Network(\u001b[38;5;241m2\u001b[39m, \u001b[38;5;241m2\u001b[39m, \u001b[38;5;241m2\u001b[39m, \u001b[38;5;241m2\u001b[39m)\n\u001b[1;32m----> 2\u001b[0m net\u001b[38;5;241m.\u001b[39mfullForwardPropagation()\n",
      "Cell \u001b[1;32mIn[213], line 34\u001b[0m, in \u001b[0;36mNetwork.fullForwardPropagation\u001b[1;34m(self)\u001b[0m\n\u001b[0;32m     32\u001b[0m \u001b[38;5;28mself\u001b[39m\u001b[38;5;241m.\u001b[39mforwardPropagationStep(\u001b[38;5;28mself\u001b[39m\u001b[38;5;241m.\u001b[39mfirstLayer, \u001b[38;5;28mself\u001b[39m\u001b[38;5;241m.\u001b[39msecondLayer)\n\u001b[0;32m     33\u001b[0m \u001b[38;5;28mself\u001b[39m\u001b[38;5;241m.\u001b[39mforwardPropagationStep(\u001b[38;5;28mself\u001b[39m\u001b[38;5;241m.\u001b[39msecondLayer, \u001b[38;5;28mself\u001b[39m\u001b[38;5;241m.\u001b[39mendLayer)\n\u001b[1;32m---> 34\u001b[0m \u001b[38;5;28mprint\u001b[39m(\u001b[38;5;28mself\u001b[39m\u001b[38;5;241m.\u001b[39mcost(\u001b[38;5;241m1\u001b[39m))\n",
      "Cell \u001b[1;32mIn[213], line 42\u001b[0m, in \u001b[0;36mNetwork.cost\u001b[1;34m(self, target)\u001b[0m\n\u001b[0;32m     40\u001b[0m         \u001b[38;5;28msum\u001b[39m \u001b[38;5;241m+\u001b[39m\u001b[38;5;241m=\u001b[39m \u001b[38;5;28mpow\u001b[39m(endLayer[i]\u001b[38;5;241m.\u001b[39mactivation \u001b[38;5;241m-\u001b[39m \u001b[38;5;241m1.0\u001b[39m, \u001b[38;5;241m2\u001b[39m)\n\u001b[0;32m     41\u001b[0m     \u001b[38;5;28;01melse\u001b[39;00m:\n\u001b[1;32m---> 42\u001b[0m         \u001b[38;5;28msum\u001b[39m \u001b[38;5;241m+\u001b[39m\u001b[38;5;241m=\u001b[39m \u001b[38;5;28mpow\u001b[39m(endLayer[i]\u001b[38;5;241m.\u001b[39mactivation, \u001b[38;5;241m2\u001b[39m)\n\u001b[0;32m     43\u001b[0m \u001b[38;5;28;01mreturn\u001b[39;00m \u001b[38;5;28msum\u001b[39m\n",
      "\u001b[1;31mNameError\u001b[0m: name 'endLayer' is not defined"
     ]
    }
   ],
   "source": [
    "net = Network(2, 2, 2, 2)\n",
    "net.fullForwardPropagation()"
   ]
  }
 ],
 "metadata": {
  "kernelspec": {
   "display_name": "base",
   "language": "python",
   "name": "python3"
  },
  "language_info": {
   "codemirror_mode": {
    "name": "ipython",
    "version": 3
   },
   "file_extension": ".py",
   "mimetype": "text/x-python",
   "name": "python",
   "nbconvert_exporter": "python",
   "pygments_lexer": "ipython3",
   "version": "3.11.7"
  }
 },
 "nbformat": 4,
 "nbformat_minor": 2
}
